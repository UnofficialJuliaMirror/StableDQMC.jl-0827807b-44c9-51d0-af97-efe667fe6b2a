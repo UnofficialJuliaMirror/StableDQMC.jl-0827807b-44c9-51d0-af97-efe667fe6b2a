{
 "cells": [
  {
   "cell_type": "code",
   "execution_count": 6,
   "metadata": {},
   "outputs": [
    {
     "name": "stderr",
     "output_type": "stream",
     "text": [
      "┌ Info: Recompiling stale cache file C:\\Users\\carsten\\.julia\\compiled\\v1.1\\MonteCarloObservable\\FUHqM.ji for MonteCarloObservable [8a675f2c-1eea-59ef-99a5-5eebc71d1519]\n",
      "└ @ Base loading.jl:1184\n",
      "┌ Info: Recompiling stale cache file C:\\Users\\carsten\\.julia\\compiled\\v1.1\\FFTW\\PvIn2.ji for FFTW [7a1cc6ca-52ef-59f5-83cd-3a7055c09341]\n",
      "└ @ Base loading.jl:1184\n",
      "┌ Info: Recompiling stale cache file C:\\Users\\carsten\\.julia\\compiled\\v1.1\\DSP\\OtML7.ji for DSP [717857b8-e6f2-59f4-9121-6e50c889abd2]\n",
      "└ @ Base loading.jl:1184\n"
     ]
    },
    {
     "data": {
      "text/plain": [
       "load_mc (generic function with 1 method)"
      ]
     },
     "execution_count": 6,
     "metadata": {},
     "output_type": "execute_result"
    }
   ],
   "source": [
    "using Pkg, Revise, BenchmarkTools\n",
    "Pkg.activate(ENV[\"JULIA_DQMC\"])\n",
    "include(joinpath(ENV[\"JULIA_DQMC\"], \"src/dqmc_framework.jl\"))\n",
    "\n",
    "# includet(joinpath(ENV[\"JULIA_DQMC\"], \"src/fermion_measurements.jl\")) # explicitly track fermion_measurements.jl\n",
    "# includet(joinpath(ENV[\"JULIA_DQMC\"], \"src/tdgf_svd.jl\")) # explicitly track new tdgf_svd.jl\n",
    "# includet(joinpath(ENV[\"JULIA_DQMC\"], \"src/linalg.jl\"))\n",
    "\n",
    "\n",
    "function load_mc(input)\n",
    "    p = Params()\n",
    "    p.output_file = \"live.out.h5.running\"\n",
    "    xml2parameters!(p, input)\n",
    "    p.safe_mult = 1 # manually overwriting safe_mult\n",
    "    # p.beta = 20\n",
    "    # p.slices = 200\n",
    "    mc = DQMC(p)\n",
    "    init!(mc)\n",
    "    mc\n",
    "end"
   ]
  },
  {
   "cell_type": "markdown",
   "metadata": {},
   "source": [
    "# First, $\\beta = 8$"
   ]
  },
  {
   "cell_type": "code",
   "execution_count": 8,
   "metadata": {
    "scrolled": true
   },
   "outputs": [
    {
     "name": "stdout",
     "output_type": "stream",
     "text": [
      "L = 2\n",
      "SLICES = 80\n",
      "DELTA_TAU = 0.1\n",
      "THERMALIZATION = 100\n",
      "MEASUREMENTS = 100\n",
      "SAFE_MULT = 1\n",
      "CHECKERBOARD = FALSE\n",
      "HOPPINGS = 1.0,0.5,-0.5,-1.0\n",
      "MU = -0.5\n",
      "LAMBDA = 0.0\n",
      "U = 0.0\n",
      "R = 1.0\n",
      "C = 0.0\n",
      "GLOBAL_UPDATES = TRUE\n",
      "GLOBAL_RATE = 5\n",
      "BFIELD = FALSE\n",
      "WRITE_EVERY_NTH = 10\n",
      "OPDIM = 1\n",
      "\n",
      "CB = CBFalse\n",
      "p.hoppings = \"1.0,0.5,-0.5,-1.0\"\n",
      "p.Nhoppings = \"none\"\n",
      "p.NNhoppings = \"none\"\n",
      "p.lattice_file = \"C:/Users/carsten/Desktop/sciebo/lattices/square_L_2_W_2.xml\"\n",
      "\n",
      "\n",
      "Loading lattice with 4 sites\n",
      "Initializing neighbor-tables\n",
      "Initializing hopping exponentials\n",
      "\n",
      "Initializing HS field\n",
      "Initializing boson action\n",
      "\n",
      "Building stack\n",
      "Initial propagate: 81 -1\n"
     ]
    }
   ],
   "source": [
    "mc = load_mc(\"dqmc.in.xml\") # noninteracting_small_bestpossible_B_8\n",
    "@assert mc.p.safe_mult == 1\n",
    "@assert mc.p.beta == 8\n",
    "@assert mc.p.L == 2\n",
    "@assert !mc.p.chkr\n",
    "@assert !mc.p.Bfield"
   ]
  },
  {
   "cell_type": "code",
   "execution_count": 9,
   "metadata": {},
   "outputs": [
    {
     "name": "stderr",
     "output_type": "stream",
     "text": [
      "HDF5-DIAG: Error detected in HDF5 (1.8.13) thread 0:\n",
      "  #000: /home/abuild/rpmbuild/BUILD/hdf5-1.8.13/src/H5F.c line 861 in H5Fis_hdf5(): unable to open file\n",
      "    major: Low-level I/O\n",
      "    minor: Unable to initialize object\n",
      "  #001: /home/abuild/rpmbuild/BUILD/hdf5-1.8.13/src/H5FD.c line 985 in H5FD_open(): open failed\n",
      "    major: Virtual File Layer\n",
      "    minor: Unable to initialize object\n",
      "  #002: /home/abuild/rpmbuild/BUILD/hdf5-1.8.13/src/H5FDsec2.c line 343 in H5FD_sec2_open(): unable to open file: name = 'greens-ed-free-beta-8.jld', errno = 2, error message = 'No such file or directory', flags = 0, o_flags = 0\n",
      "    major: File accessibilty\n",
      "    minor: Unable to open file\n"
     ]
    },
    {
     "ename": "ErrorException",
     "evalue": "Cannot access file greens-ed-free-beta-8.jld",
     "output_type": "error",
     "traceback": [
      "Cannot access file greens-ed-free-beta-8.jld",
      "",
      "Stacktrace:",
      " [1] error(::String, ::String) at .\\error.jl:42",
      " [2] h5f_is_hdf5 at C:\\Users\\carsten\\.julia\\packages\\HDF5\\H0XJB\\src\\HDF5.jl:2276 [inlined]",
      " [3] #h5open#3(::Bool, ::Function, ::String, ::Bool, ::Bool, ::Bool, ::Bool, ::Bool, ::HDF5Properties, ::HDF5Properties) at C:\\Users\\carsten\\.julia\\packages\\HDF5\\H0XJB\\src\\HDF5.jl:633",
      " [4] #h5open at C:\\Users\\carsten\\.julia\\packages\\HDF5\\H0XJB\\src\\HDF5.jl:0 [inlined]",
      " [5] #h5open#4(::Bool, ::Function, ::String, ::String) at C:\\Users\\carsten\\.julia\\packages\\HDF5\\H0XJB\\src\\HDF5.jl:681",
      " [6] h5open at C:\\Users\\carsten\\.julia\\packages\\HDF5\\H0XJB\\src\\HDF5.jl:664 [inlined]",
      " [7] h5read(::String, ::String) at C:\\Users\\carsten\\.julia\\packages\\HDF5\\H0XJB\\src\\HDF5.jl:730",
      " [8] top-level scope at In[9]:5"
     ]
    }
   ],
   "source": [
    "gudt = calc_greens(mc);\n",
    "@assert isapprox(gudt, mc.s.greens)\n",
    "\n",
    "gudv = calc_greens_udv_simple(mc);\n",
    "\n",
    "ged = h5read(\"greens-ed-free-beta-8.jld\", \"greens\")[1:8,1:8];"
   ]
  },
  {
   "cell_type": "markdown",
   "metadata": {},
   "source": [
    "#### QR vs ED"
   ]
  },
  {
   "cell_type": "code",
   "execution_count": 4,
   "metadata": {},
   "outputs": [
    {
     "name": "stdout",
     "output_type": "stream",
     "text": [
      "max absdiff: 1.7e-07\n",
      "mean absdiff: 5.0e-08\n",
      "max reldiff: 2.0e+00\n",
      "mean reldiff: 1.0e+00\n",
      "effective max reldiff: 2.0e+00\n",
      "effective mean reldiff: 1.0e+00\n"
     ]
    },
    {
     "data": {
      "text/plain": [
       "false"
      ]
     },
     "execution_count": 4,
     "metadata": {},
     "output_type": "execute_result"
    }
   ],
   "source": [
    "compare(gudt, ged) # WHY DONT THEY AGREE BETTER? Answer: ED only considers finite number of low lying states"
   ]
  },
  {
   "cell_type": "markdown",
   "metadata": {},
   "source": [
    "#### SVD vs ED"
   ]
  },
  {
   "cell_type": "code",
   "execution_count": 5,
   "metadata": {},
   "outputs": [
    {
     "name": "stdout",
     "output_type": "stream",
     "text": [
      "max absdiff: 1.7e-07\n",
      "mean absdiff: 5.0e-08\n",
      "max reldiff: 2.0e+00\n",
      "mean reldiff: 1.0e+00\n",
      "effective max reldiff: 2.0e+00\n",
      "effective mean reldiff: 1.0e+00\n"
     ]
    },
    {
     "data": {
      "text/plain": [
       "false"
      ]
     },
     "execution_count": 5,
     "metadata": {},
     "output_type": "execute_result"
    }
   ],
   "source": [
    "compare(gudv, ged)"
   ]
  },
  {
   "cell_type": "markdown",
   "metadata": {},
   "source": [
    "#### QR vs SVD"
   ]
  },
  {
   "cell_type": "code",
   "execution_count": 6,
   "metadata": {},
   "outputs": [
    {
     "name": "stdout",
     "output_type": "stream",
     "text": [
      "max absdiff: 2.8e-11\n",
      "mean absdiff: 7.3e-12\n",
      "max reldiff: 2.0e+00\n",
      "mean reldiff: 1.0e+00\n",
      "effective max reldiff: 2.0e+00\n",
      "effective mean reldiff: 1.0e+00\n"
     ]
    },
    {
     "data": {
      "text/plain": [
       "true"
      ]
     },
     "execution_count": 6,
     "metadata": {},
     "output_type": "execute_result"
    }
   ],
   "source": [
    "compare(gudt, gudv)"
   ]
  },
  {
   "cell_type": "markdown",
   "metadata": {},
   "source": [
    "**We see that up to the precision of the ED, we find good agreement between the stabilization techniques.**"
   ]
  },
  {
   "cell_type": "markdown",
   "metadata": {},
   "source": [
    "We can also compare `Budv` and `Budt`,"
   ]
  },
  {
   "cell_type": "code",
   "execution_count": 7,
   "metadata": {},
   "outputs": [
    {
     "data": {
      "text/plain": [
       "8×8 BitArray{2}:\n",
       "  true   true   true   true  false  false  false  false\n",
       "  true   true   true   true  false  false  false  false\n",
       "  true   true   true   true  false  false  false  false\n",
       "  true   true   true   true  false  false  false  false\n",
       " false  false  false  false   true   true   true   true\n",
       " false  false  false  false   true   true   true   true\n",
       " false  false  false  false   true   true   true   true\n",
       " false  false  false  false   true   true   true   true"
      ]
     },
     "metadata": {},
     "output_type": "display_data"
    },
    {
     "name": "stdout",
     "output_type": "stream",
     "text": [
      "isapprox(Mudv, Mudt) = true\n"
     ]
    },
    {
     "data": {
      "text/plain": [
       "8×8 Array{Float64,2}:\n",
       " 8.9407e-8   4.47035e-8  5.96046e-8  …  1.13151e-8  1.08071e-8  6.27124e-9\n",
       " 7.45058e-8  1.49012e-8  7.45058e-8     1.91214e-8  9.08231e-9  1.3618e-8 \n",
       " 1.3411e-7   1.04308e-7  1.49012e-8     9.95549e-9  8.6339e-9   4.09802e-9\n",
       " 1.19209e-7  5.96046e-8  2.98023e-8     4.64913e-9  2.8547e-9   1.68102e-9\n",
       " 1.55769e-6  1.57237e-6  1.62511e-6     1.93715e-7  6.25849e-7  5.51343e-7\n",
       " 1.55766e-6  1.57234e-6  1.62508e-6  …  2.23517e-7  6.10948e-7  5.36442e-7\n",
       " 1.5789e-6   1.59357e-6  1.64632e-6     1.93715e-7  6.55651e-7  5.81145e-7\n",
       " 1.57877e-6  1.59345e-6  1.64619e-6     2.23517e-7  6.25849e-7  5.51343e-7"
      ]
     },
     "execution_count": 7,
     "metadata": {},
     "output_type": "execute_result"
    }
   ],
   "source": [
    "Budv = calc_Bchain_udv(mc, 1, mc.p.slices);\n",
    "Budt = calc_Bchain(mc, 1, mc.p.slices);\n",
    "\n",
    "Mudv = UDV_to_mat(Budv[1:3]...)\n",
    "Mudt = UDT_to_mat(Budt[1:3]...)\n",
    "\n",
    "@show isapprox(Mudv, Mudt)\n",
    "\n",
    "display(isapprox.(Mudt, Mudv))\n",
    "\n",
    "absdiff(Mudv, Mudt)"
   ]
  },
  {
   "cell_type": "code",
   "execution_count": 8,
   "metadata": {},
   "outputs": [
    {
     "data": {
      "text/plain": [
       "8×8 Array{Float64,2}:\n",
       "  1.21291e8    1.21291e8    1.21291e8   …   7.50377e-9   -7.5037e-9  \n",
       "  1.21291e8    1.21291e8    1.21291e8      -1.23857e-8    1.23856e-8 \n",
       "  1.21291e8    1.21291e8    1.21291e8       5.33055e-9   -5.33047e-9 \n",
       "  1.21291e8    1.21291e8    1.21291e8      -4.48658e-10   4.48581e-10\n",
       " -1.55879e-6   1.54311e-6  -1.62511e-6     -1.21291e8     1.21291e8  \n",
       "  1.55876e-6  -1.54308e-6   1.62508e-6  …   1.21291e8    -1.21291e8  \n",
       "  1.58e-6     -1.56432e-6   1.64632e-6      1.21291e8    -1.21291e8  \n",
       " -1.57987e-6   1.56419e-6  -1.64619e-6     -1.21291e8     1.21291e8  "
      ]
     },
     "execution_count": 8,
     "metadata": {},
     "output_type": "execute_result"
    }
   ],
   "source": [
    "Mudv"
   ]
  },
  {
   "cell_type": "markdown",
   "metadata": {},
   "source": [
    "and there singular values:"
   ]
  },
  {
   "cell_type": "code",
   "execution_count": 9,
   "metadata": {},
   "outputs": [
    {
     "name": "stderr",
     "output_type": "stream",
     "text": [
      "┌ Info: Recompiling stale cache file C:\\Users\\carsten\\.julia\\compiled\\v1.1\\PyPlot\\oatAj.ji for PyPlot [d330b81b-6aea-500a-939a-2ce795aea3ee]\n",
      "└ @ Base loading.jl:1184\n"
     ]
    },
    {
     "data": {
      "image/png": "[encoded data removed]",
      "text/plain": [
       "Figure(PyObject <Figure size 640x480 with 1 Axes>)"
      ]
     },
     "metadata": {},
     "output_type": "display_data"
    }
   ],
   "source": [
    "using PyPlot\n",
    "\n",
    "function plot_svs_comparison(Budt, Budv)\n",
    "    svs_udv = Budv[4]\n",
    "    svs_udt = Budt[4]\n",
    "\n",
    "    which_svs = 1:size(svs_udv,1)\n",
    "\n",
    "    figure()\n",
    "    @views for k in which_svs\n",
    "        plot(svs_udt[k,:], label=(k == 1 ? \"QR\" : \"\"), c=\"k\")\n",
    "        plot(svs_udv[k,:], label=(k == 1 ? \"SVD\" : \"\"), c=\"r\")\n",
    "    end\n",
    "    legend()\n",
    "    tight_layout()\n",
    "end\n",
    "\n",
    "plot_svs_comparison(Budt, Budv)"
   ]
  },
  {
   "cell_type": "markdown",
   "metadata": {},
   "source": [
    "# Now, let's look at the same system (settings) for $\\beta = 40$"
   ]
  },
  {
   "cell_type": "code",
   "execution_count": 11,
   "metadata": {},
   "outputs": [
    {
     "name": "stdout",
     "output_type": "stream",
     "text": [
      "L = 2\n",
      "SLICES = 400\n",
      "DELTA_TAU = 0.1\n",
      "THERMALIZATION = 100\n",
      "MEASUREMENTS = 100\n",
      "SAFE_MULT = 1\n",
      "CHECKERBOARD = FALSE\n",
      "HOPPINGS = 1.0,0.5,-0.5,-1.0\n",
      "MU = -0.5\n",
      "LAMBDA = 0.0\n",
      "U = 0.0\n",
      "R = 1.0\n",
      "C = 0.0\n",
      "GLOBAL_UPDATES = TRUE\n",
      "GLOBAL_RATE = 5\n",
      "BFIELD = FALSE\n",
      "WRITE_EVERY_NTH = 10\n",
      "OPDIM = 1\n",
      "\n",
      "CB = CBFalse\n",
      "p.hoppings = \"1.0,0.5,-0.5,-1.0\"\n",
      "p.Nhoppings = \"none\"\n",
      "p.NNhoppings = \"none\"\n",
      "p.lattice_file = \"C:/Users/carsten/Desktop/sciebo/lattices/square_L_2_W_2.xml\"\n",
      "\n",
      "\n",
      "Loading lattice with 4 sites\n",
      "Initializing neighbor-tables\n",
      "Initializing hopping exponentials\n",
      "\n",
      "Initializing HS field\n",
      "Initializing boson action\n",
      "\n",
      "Building stack\n",
      "Initial propagate: 401 -1\n"
     ]
    }
   ],
   "source": [
    "mc = load_mc(\"dqmc.in.xml\") # noninteracting_small_bestpossible_B_8\n",
    "@assert mc.p.safe_mult == 1\n",
    "@assert mc.p.beta == 40\n",
    "@assert mc.p.L == 2\n",
    "@assert !mc.p.chkr\n",
    "@assert !mc.p.Bfield"
   ]
  },
  {
   "cell_type": "code",
   "execution_count": 12,
   "metadata": {},
   "outputs": [
    {
     "name": "stderr",
     "output_type": "stream",
     "text": [
      "HDF5-DIAG: Error detected in HDF5 (1.8.13) thread 0:\n",
      "  #000: /home/abuild/rpmbuild/BUILD/hdf5-1.8.13/src/H5F.c line 861 in H5Fis_hdf5(): unable to open file\n",
      "    major: Low-level I/O\n",
      "    minor: Unable to initialize object\n",
      "  #001: /home/abuild/rpmbuild/BUILD/hdf5-1.8.13/src/H5FD.c line 985 in H5FD_open(): open failed\n",
      "    major: Virtual File Layer\n",
      "    minor: Unable to initialize object\n",
      "  #002: /home/abuild/rpmbuild/BUILD/hdf5-1.8.13/src/H5FDsec2.c line 343 in H5FD_sec2_open(): unable to open file: name = 'greens-ed-free-beta-40.jld', errno = 2, error message = 'No such file or directory', flags = 0, o_flags = 0\n",
      "    major: File accessibilty\n",
      "    minor: Unable to open file\n"
     ]
    },
    {
     "ename": "ErrorException",
     "evalue": "Cannot access file greens-ed-free-beta-40.jld",
     "output_type": "error",
     "traceback": [
      "Cannot access file greens-ed-free-beta-40.jld",
      "",
      "Stacktrace:",
      " [1] error(::String, ::String) at .\\error.jl:42",
      " [2] h5f_is_hdf5 at C:\\Users\\carsten\\.julia\\packages\\HDF5\\H0XJB\\src\\HDF5.jl:2276 [inlined]",
      " [3] #h5open#3(::Bool, ::Function, ::String, ::Bool, ::Bool, ::Bool, ::Bool, ::Bool, ::HDF5Properties, ::HDF5Properties) at C:\\Users\\carsten\\.julia\\packages\\HDF5\\H0XJB\\src\\HDF5.jl:633",
      " [4] #h5open at C:\\Users\\carsten\\.julia\\packages\\HDF5\\H0XJB\\src\\HDF5.jl:0 [inlined]",
      " [5] #h5open#4(::Bool, ::Function, ::String, ::String) at C:\\Users\\carsten\\.julia\\packages\\HDF5\\H0XJB\\src\\HDF5.jl:681",
      " [6] h5open at C:\\Users\\carsten\\.julia\\packages\\HDF5\\H0XJB\\src\\HDF5.jl:664 [inlined]",
      " [7] h5read(::String, ::String) at C:\\Users\\carsten\\.julia\\packages\\HDF5\\H0XJB\\src\\HDF5.jl:730",
      " [8] top-level scope at In[12]:5"
     ]
    }
   ],
   "source": [
    "gudt = calc_greens(mc);\n",
    "@assert isapprox(gudt, mc.s.greens)\n",
    "\n",
    "gudv = calc_greens_udv_simple(mc);\n",
    "\n",
    "ged = h5read(\"greens-ed-free-beta-40.jld\", \"greens\")[1:8,1:8];"
   ]
  },
  {
   "cell_type": "markdown",
   "metadata": {},
   "source": [
    "#### QR vs ED"
   ]
  },
  {
   "cell_type": "code",
   "execution_count": 12,
   "metadata": {},
   "outputs": [
    {
     "name": "stdout",
     "output_type": "stream",
     "text": [
      "max absdiff: 1.4e-15\n",
      "mean absdiff: 3.2e-16\n",
      "max reldiff: 2.0e+00\n",
      "mean reldiff: 1.0e+00\n",
      "effective max reldiff: 0.0e+00\n",
      "effective mean reldiff: 0.0e+00\n"
     ]
    },
    {
     "data": {
      "text/plain": [
       "true"
      ]
     },
     "execution_count": 12,
     "metadata": {},
     "output_type": "execute_result"
    }
   ],
   "source": [
    "compare(gudt, ged) # Now they agree better, because at lower T only low lying states (captured by ED) matter"
   ]
  },
  {
   "cell_type": "markdown",
   "metadata": {},
   "source": [
    "#### SVD vs ED"
   ]
  },
  {
   "cell_type": "code",
   "execution_count": 13,
   "metadata": {},
   "outputs": [
    {
     "name": "stdout",
     "output_type": "stream",
     "text": [
      "max absdiff: 8.6e-01\n",
      "mean absdiff: 3.1e-01\n",
      "max reldiff: 6.0e+00\n",
      "mean reldiff: 1.9e+00\n",
      "effective max reldiff: 6.0e+00\n",
      "effective mean reldiff: 1.9e+00\n"
     ]
    },
    {
     "data": {
      "text/plain": [
       "false"
      ]
     },
     "execution_count": 13,
     "metadata": {},
     "output_type": "execute_result"
    }
   ],
   "source": [
    "compare(gudv, ged)"
   ]
  },
  {
   "cell_type": "markdown",
   "metadata": {},
   "source": [
    "#### QR vs SVD"
   ]
  },
  {
   "cell_type": "code",
   "execution_count": 14,
   "metadata": {},
   "outputs": [
    {
     "name": "stdout",
     "output_type": "stream",
     "text": [
      "max absdiff: 8.6e-01\n",
      "mean absdiff: 3.1e-01\n",
      "max reldiff: 6.0e+00\n",
      "mean reldiff: 1.9e+00\n",
      "effective max reldiff: 6.0e+00\n",
      "effective mean reldiff: 1.9e+00\n"
     ]
    },
    {
     "data": {
      "text/plain": [
       "false"
      ]
     },
     "execution_count": 14,
     "metadata": {},
     "output_type": "execute_result"
    }
   ],
   "source": [
    "compare(gudt, gudv)"
   ]
  },
  {
   "cell_type": "markdown",
   "metadata": {},
   "source": [
    "**At lower T, QR seems to work fine but SVD doesn't! Why?**"
   ]
  },
  {
   "cell_type": "markdown",
   "metadata": {},
   "source": [
    "Comparing `Budt` and `Budv` directly,"
   ]
  },
  {
   "cell_type": "code",
   "execution_count": 54,
   "metadata": {},
   "outputs": [
    {
     "data": {
      "text/plain": [
       "decompose_udv! (generic function with 1 method)"
      ]
     },
     "execution_count": 54,
     "metadata": {},
     "output_type": "execute_result"
    }
   ],
   "source": [
    "using JacobiSVD # experimental package\n",
    "decompose_udv!(A::AbstractMatrix{<:Number}) = JacobiSVD.gesvj!('G','U','V', A) # was gesdd! at some point\n",
    "\n",
    "decompose_udv!(A::AbstractMatrix{<:Number}) = LinearAlgebra.LAPACK.gesvd!('A','A',A) # was gesdd! at some point"
   ]
  },
  {
   "cell_type": "code",
   "execution_count": 61,
   "metadata": {},
   "outputs": [
    {
     "data": {
      "text/plain": [
       "decompose_udv! (generic function with 1 method)"
      ]
     },
     "execution_count": 61,
     "metadata": {},
     "output_type": "execute_result"
    }
   ],
   "source": [
    "using PyCall\n",
    "# @pyimport numpy as np\n",
    "@pyimport scipy.linalg as splinalg\n",
    "\n",
    "decompose_udv!(A::AbstractMatrix{<:Number}) = splinalg.svd(A, lapack_driver=\"gesvd\") # np.linalg[:svd](A)"
   ]
  },
  {
   "cell_type": "code",
   "execution_count": 17,
   "metadata": {},
   "outputs": [
    {
     "data": {
      "text/plain": [
       "8×8 BitArray{2}:\n",
       "  true   true   true   true  false  false  false  false\n",
       "  true   true   true   true  false  false  false  false\n",
       "  true   true   true   true  false  false  false  false\n",
       "  true   true   true   true  false  false  false  false\n",
       " false  false  false  false   true   true   true   true\n",
       " false  false  false  false   true   true   true   true\n",
       " false  false  false  false   true   true   true   true\n",
       " false  false  false  false   true   true   true   true"
      ]
     },
     "metadata": {},
     "output_type": "display_data"
    },
    {
     "name": "stdout",
     "output_type": "stream",
     "text": [
      "isapprox(Mudv, Mudt) = true\n"
     ]
    },
    {
     "name": "stderr",
     "output_type": "stream",
     "text": [
      "┌ Warning: UDT_to_mat! probably shouldn't be called here\n",
      "└ @ Main C:\\Users\\carsten\\Desktop\\sciebo\\codes\\julia-sdw-dqmc\\src\\linalg.jl:607\n"
     ]
    },
    {
     "data": {
      "text/plain": [
       "8×8 Array{Float64,2}:\n",
       " 4.70417e28  4.33279e28  3.71382e28  …  2.49423e27  2.71671e27  2.46667e27\n",
       " 4.209e28    3.83761e28  3.21864e28     2.49129e27  2.29024e27  2.54592e27\n",
       " 4.33279e28  3.96141e28  3.34244e28     3.53649e26  5.99749e26  3.55924e26\n",
       " 4.33279e28  3.96141e28  3.34244e28     4.951e26    2.94116e26  5.49814e26\n",
       " 1.48806e29  1.54426e29  1.57349e29     1.25032e29  1.10177e29  1.12653e29\n",
       " 1.48806e29  1.54426e29  1.57349e29  …  1.21318e29  1.06463e29  1.08939e29\n",
       " 1.48806e29  1.54426e29  1.57349e29     1.25032e29  1.10177e29  1.12653e29\n",
       " 1.48806e29  1.54426e29  1.57349e29     1.25032e29  1.10177e29  1.12653e29"
      ]
     },
     "execution_count": 17,
     "metadata": {},
     "output_type": "execute_result"
    }
   ],
   "source": [
    "Budv = calc_Bchain_udv(mc, 1, mc.p.slices, 1);\n",
    "Budt = calc_Bchain(mc, 1, mc.p.slices, 1);\n",
    "\n",
    "Mudv = UDV_to_mat(Budv[1:3]...)\n",
    "Mudt = UDT_to_mat(Budt[1:3]...)\n",
    "\n",
    "@show isapprox(Mudv, Mudt)\n",
    "\n",
    "display(isapprox.(Mudt, Mudv))\n",
    "\n",
    "absdiff(Mudv, Mudt)"
   ]
  },
  {
   "cell_type": "code",
   "execution_count": 63,
   "metadata": {},
   "outputs": [
    {
     "data": {
      "text/plain": [
       "8×8 Array{Float64,2}:\n",
       "  6.72029e42   6.72029e42   6.72029e42  …   2.53368e27  -2.53495e27\n",
       "  6.72029e42   6.72029e42   6.72029e42     -2.47326e27   2.47763e27\n",
       "  6.72029e42   6.72029e42   6.72029e42      4.16723e26  -4.24209e26\n",
       "  6.72029e42   6.72029e42   6.72029e42     -4.77142e26   4.81529e26\n",
       " -1.48866e29   1.52805e29  -1.57349e29     -6.72029e42   6.72029e42\n",
       "  1.48866e29  -1.52805e29   1.57349e29  …   6.72029e42  -6.72029e42\n",
       "  1.48866e29  -1.52805e29   1.57349e29      6.72029e42  -6.72029e42\n",
       " -1.48866e29   1.52805e29  -1.57349e29     -6.72029e42   6.72029e42"
      ]
     },
     "execution_count": 63,
     "metadata": {},
     "output_type": "execute_result"
    }
   ],
   "source": [
    "Mudv"
   ]
  },
  {
   "cell_type": "code",
   "execution_count": 64,
   "metadata": {},
   "outputs": [
    {
     "data": {
      "text/plain": [
       "8×8 Array{Float64,2}:\n",
       "  6.72029e42   6.72029e42  6.72029e42  …  -1.83026e26  -6.82852e25\n",
       "  6.72029e42   6.72029e42  6.72029e42     -1.83026e26  -6.82852e25\n",
       "  6.72029e42   6.72029e42  6.72029e42     -1.83026e26  -6.82852e25\n",
       "  6.72029e42   6.72029e42  6.72029e42     -1.83026e26  -6.82852e25\n",
       " -6.08247e25  -1.62103e27  0.0            -6.72029e42   6.72029e42\n",
       "  6.08247e25   1.62103e27  0.0         …   6.72029e42  -6.72029e42\n",
       "  6.08247e25   1.62103e27  0.0             6.72029e42  -6.72029e42\n",
       " -6.08247e25  -1.62103e27  0.0            -6.72029e42   6.72029e42"
      ]
     },
     "execution_count": 64,
     "metadata": {},
     "output_type": "execute_result"
    }
   ],
   "source": [
    "Mudt"
   ]
  },
  {
   "cell_type": "markdown",
   "metadata": {},
   "source": [
    "#### Inspecting the singular values"
   ]
  },
  {
   "cell_type": "code",
   "execution_count": 65,
   "metadata": {},
   "outputs": [
    {
     "data": {
      "text/plain": [
       "8-element Array{Float64,1}:\n",
       " 1.344058570908608e43 \n",
       " 1.3440585709079413e43\n",
       " 4.851651954098959e8  \n",
       " 4.851651954098575e8  \n",
       " 8.75651076269526e-27 \n",
       " 8.756510762695154e-27\n",
       " 3.160840120548144e-61\n",
       " 3.16084012054782e-61 "
      ]
     },
     "execution_count": 65,
     "metadata": {},
     "output_type": "execute_result"
    }
   ],
   "source": [
    "Budt[2]"
   ]
  },
  {
   "cell_type": "code",
   "execution_count": 66,
   "metadata": {},
   "outputs": [
    {
     "data": {
      "text/plain": [
       "8-element Array{Float64,1}:\n",
       "  2.6881171418172126e43\n",
       "  2.688117141815916e43 \n",
       "  6.2272525036778785e25\n",
       "  2.0472746004124313e20\n",
       "  8.614642768629248e16 \n",
       " -0.0                  \n",
       " -0.0                  \n",
       "  0.0                  "
      ]
     },
     "execution_count": 66,
     "metadata": {},
     "output_type": "execute_result"
    }
   ],
   "source": [
    "Budv[2]"
   ]
  },
  {
   "cell_type": "code",
   "execution_count": 21,
   "metadata": {},
   "outputs": [
    {
     "data": {
      "text/plain": [
       "8×400 Array{Float64,2}:\n",
       "  0.25   0.5   0.75   1.0   1.25   1.5  …    99.5       99.75     100.0   \n",
       "  0.25   0.5   0.75   1.0   1.25   1.5       99.5       99.75     100.0   \n",
       "  0.05   0.1   0.15   0.2   0.25   0.3       60.4131    60.3168    59.3936\n",
       "  0.05   0.1   0.15   0.2   0.25   0.3       47.0493    47.0369    46.7682\n",
       " -0.15  -0.3  -0.45  -0.6  -0.75  -0.9       37.9535    37.8918    38.9948\n",
       " -0.15  -0.3  -0.45  -0.6  -0.75  -0.9  …  -Inf       -Inf       -Inf     \n",
       " -0.35  -0.7  -1.05  -1.4  -1.75  -2.1     -Inf       -Inf       -Inf     \n",
       " -0.35  -0.7  -1.05  -1.4  -1.75  -2.1     -Inf       -Inf       -Inf     "
      ]
     },
     "execution_count": 21,
     "metadata": {},
     "output_type": "execute_result"
    }
   ],
   "source": [
    "Budv[4]"
   ]
  },
  {
   "cell_type": "code",
   "execution_count": 22,
   "metadata": {},
   "outputs": [
    {
     "data": {
      "image/png": "[encoded data removed]",
      "text/plain": [
       "Figure(PyObject <Figure size 640x480 with 1 Axes>)"
      ]
     },
     "metadata": {},
     "output_type": "display_data"
    }
   ],
   "source": [
    "using PyPlot\n",
    "\n",
    "function plot_svs_comparison(Budt, Budv)\n",
    "    svs_udv = Budv[4]\n",
    "    svs_udt = Budt[4]\n",
    "\n",
    "    which_svs = 1:size(svs_udv,1)\n",
    "\n",
    "    figure()\n",
    "    @views for k in which_svs\n",
    "        plot(svs_udt[k,:], label=(k == 1 ? \"QR\" : \"\"), c=\"k\")\n",
    "        plot(svs_udv[k,:], label=(k == 1 ? \"SVD\" : \"\"), c=\"r\")\n",
    "    end\n",
    "    legend()\n",
    "    tight_layout()\n",
    "end\n",
    "\n",
    "plot_svs_comparison(Budt, Budv)"
   ]
  },
  {
   "cell_type": "markdown",
   "metadata": {},
   "source": [
    "# Try to extract MWE"
   ]
  },
  {
   "cell_type": "code",
   "execution_count": 13,
   "metadata": {},
   "outputs": [
    {
     "ename": "ArgumentError",
     "evalue": "ArgumentError: Package Plots not found in current path:\n- Run `import Pkg; Pkg.add(\"Plots\")` to install the Plots package.\n",
     "output_type": "error",
     "traceback": [
      "ArgumentError: Package Plots not found in current path:\n- Run `import Pkg; Pkg.add(\"Plots\")` to install the Plots package.\n",
      "",
      "Stacktrace:",
      " [1] require(::Module, ::Symbol) at .\\loading.jl:823",
      " [2] top-level scope at In[13]:1"
     ]
    }
   ],
   "source": [
    "using Plots, LinearAlgebra\n",
    "\n",
    "\"\"\"\n",
    "\n",
    "calc_product_chain(B,N) -> (R, svs)\n",
    "\n",
    "Calculate B^N as B*B*B*B*...*B from right to left.\n",
    "\n",
    "Returns the result `R` and the singular values (column of `svs`) of all intermediate powers (rows of `svs`).\n",
    "\"\"\"\n",
    "function calc_product_chain(B, N)\n",
    "    bs = size(B,1)\n",
    "    R = Matrix{Float64}(I, bs, bs)\n",
    "    svs = zeros(N,bs)\n",
    "    svc = 1\n",
    "    for k in 1:N\n",
    "        R = B * R\n",
    "        svs[svc,:] = log.(svdvals(R))\n",
    "        svc += 1\n",
    "    end\n",
    "    return (R, svs)\n",
    "end\n",
    "\n",
    "\n",
    "\"\"\"\n",
    "Does the same as `calc_product_chain` but stabilizes the\n",
    "matrix products by performing them in UDT (QR) or UDVt (SVD) form.\n",
    "This way different scales are kept separate as much as possible.\n",
    "\"\"\"\n",
    "function calc_product_chain_stabilized(B, N, decomposition_method)\n",
    "    svs = zeros(eltype(B), N,size(B,1))\n",
    "    U, D, X = decomposition_method(B)\n",
    "    svs[1,:] = log.(D)\n",
    "    svc = 2\n",
    "\n",
    "    for k in 2:N\n",
    "        # multiply B from the left to UDX\n",
    "        # and update UDX\n",
    "        U = B * U\n",
    "        U *= Diagonal(D)\n",
    "        U, D, Xnew = decomposition_method(U)\n",
    "        X = Xnew * X\n",
    "        \n",
    "        # keep singular values\n",
    "        svs[svc,:] = log.(D)\n",
    "        svc += 1\n",
    "    end\n",
    "    \n",
    "    return (U * Diagonal(D) * X, svs)\n",
    "end\n",
    "\n",
    "\n",
    "\n",
    "\n",
    "\n",
    "\n",
    "\n",
    "# Define a couple of decomposition methods which must output UDX\n",
    "mygesdd = x -> LinearAlgebra.LAPACK.gesdd!('A', copy(x))\n",
    "mygesvd = x -> LinearAlgebra.LAPACK.gesvd!('A', 'A', copy(x))\n",
    "\n",
    "function myqr(x)\n",
    "  F = qr(x, Val(true))\n",
    "  p = F.p\n",
    "  @views p[p] = collect(1:length(p))\n",
    "  D = abs.(real(diag(F.R)))\n",
    "  T = (Diagonal(1 ./ D) * F.R)[:, p]\n",
    "  return F.Q, D, T\n",
    "end\n",
    "\n",
    "\n",
    "\n",
    "\n",
    "\n",
    "\n",
    "\n",
    "\n",
    "\n",
    "\n",
    "\n",
    "# Some basic tests\n",
    "B = rand(4,4)\n",
    "N = 10\n",
    "@assert isapprox(calc_product_chain(B, N)[1], B^N)\n",
    "@assert isapprox(calc_product_chain_stabilized(B, N, mygesdd)[1], B^N)\n",
    "@assert isapprox(calc_product_chain_stabilized(B, N, mygesvd)[1], B^N)\n",
    "@assert isapprox(calc_product_chain_stabilized(B, N, myqr)[1], B^N)"
   ]
  },
  {
   "cell_type": "code",
   "execution_count": 373,
   "metadata": {},
   "outputs": [
    {
     "data": {
      "text/plain": [
       "#189 (generic function with 1 method)"
      ]
     },
     "execution_count": 373,
     "metadata": {},
     "output_type": "execute_result"
    }
   ],
   "source": [
    "# Another decomposition_method that works with BigFloat\n",
    "using GenericSVD\n",
    "mygenericsvd = x -> (F = svd(x); return (F.U, F.S, F.Vt))"
   ]
  },
  {
   "cell_type": "code",
   "execution_count": 15,
   "metadata": {},
   "outputs": [
    {
     "name": "stdout",
     "output_type": "stream",
     "text": [
      "[0.975173 0.0971936 0.192475 0.0191836 0.0 0.0 0.0 0.0; 0.0971936 0.975173 0.0191836 0.192475 0.0 0.0 0.0 0.0; 0.192475 0.0191836 0.975173 0.0971936 0.0 0.0 0.0 0.0; 0.0191836 0.192475 0.0971936 0.975173 0.0 0.0 0.0 0.0; 0.0 0.0 0.0 0.0 0.975173 -0.192475 -0.0971936 0.0191836; 0.0 0.0 0.0 0.0 -0.192475 0.975173 0.0191836 -0.0971936; 0.0 0.0 0.0 0.0 -0.0971936 0.0191836 0.975173 -0.192475; 0.0 0.0 0.0 0.0 0.0191836 -0.0971936 -0.192475 0.975173]"
     ]
    }
   ],
   "source": [
    "print(B)"
   ]
  },
  {
   "cell_type": "code",
   "execution_count": 14,
   "metadata": {},
   "outputs": [
    {
     "data": {
      "text/plain": [
       "8×8 Array{Float64,2}:\n",
       " 0.975173   0.0971936  0.192475   …   0.0         0.0         0.0      \n",
       " 0.0971936  0.975173   0.0191836      0.0         0.0         0.0      \n",
       " 0.192475   0.0191836  0.975173       0.0         0.0         0.0      \n",
       " 0.0191836  0.192475   0.0971936      0.0         0.0         0.0      \n",
       " 0.0        0.0        0.0           -0.192475   -0.0971936   0.0191836\n",
       " 0.0        0.0        0.0        …   0.975173    0.0191836  -0.0971936\n",
       " 0.0        0.0        0.0            0.0191836   0.975173   -0.192475 \n",
       " 0.0        0.0        0.0           -0.0971936  -0.192475    0.975173 "
      ]
     },
     "execution_count": 14,
     "metadata": {},
     "output_type": "execute_result"
    }
   ],
   "source": [
    "B = slice_matrix(mc, 1)"
   ]
  },
  {
   "cell_type": "code",
   "execution_count": 446,
   "metadata": {},
   "outputs": [],
   "source": [
    "B = slice_matrix(mc, 1)\n",
    "# B = rand(8,8)\n",
    "Bbig = BigFloat.(B)\n",
    "N = 400\n",
    "\n",
    "svs_mygesdd = calc_product_chain_stabilized(B, N, mygesdd)[2];\n",
    "svs_mygesvd = calc_product_chain_stabilized(B, N, mygesvd)[2];\n",
    "svs_mygenericsvd = calc_product_chain_stabilized(Bbig, N, mygenericsvd)[2];\n",
    "svs_myqr = calc_product_chain_stabilized(B, N, myqr)[2];"
   ]
  },
  {
   "cell_type": "code",
   "execution_count": 447,
   "metadata": {},
   "outputs": [
    {
     "data": {
      "image/png": "[encoded data removed]"
     },
     "execution_count": 447,
     "metadata": {},
     "output_type": "execute_result"
    }
   ],
   "source": [
    "using Plots; pyplot();\n",
    "default(framestyle = :box, legend = true)\n",
    "\n",
    "Plots.plot(svs_mygesdd, color=:red, labels = reshape([\"gesdd\", \"\", \"\",\"\", \"\",\"\", \"\", \"\"], (1,8)))\n",
    "Plots.plot!(svs_mygesvd, color=:blue, labels = reshape([\"gesvd\", \"\", \"\",\"\", \"\",\"\", \"\", \"\"], (1,8)))\n",
    "Plots.plot!(svs_myqr, color=:black, labels = reshape([\"qr\", \"\", \"\",\"\", \"\",\"\", \"\", \"\"], (1,8)))\n",
    "Plots.plot!(svs_mygenericsvd, color=:green, labels = reshape([\"BigFloat\", \"\", \"\",\"\", \"\",\"\", \"\", \"\"], (1,8)))\n",
    "xlabel!(\"log singular values\")\n",
    "ylabel!(\"length of product chain\")\n",
    "# ylims!(-250, 200)"
   ]
  },
  {
   "cell_type": "code",
   "execution_count": null,
   "metadata": {},
   "outputs": [],
   "source": []
  }
 ],
 "metadata": {
  "@webio": {
   "lastCommId": null,
   "lastKernelId": null
  },
  "kernelspec": {
   "display_name": "Julia 1.1.0",
   "language": "julia",
   "name": "julia-1.1"
  },
  "language_info": {
   "file_extension": ".jl",
   "mimetype": "application/julia",
   "name": "julia",
   "version": "1.1.0"
  }
 },
 "nbformat": 4,
 "nbformat_minor": 2
}
